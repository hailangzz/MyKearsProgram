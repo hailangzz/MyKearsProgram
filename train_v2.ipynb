{
 "cells": [
  {
   "cell_type": "code",
   "execution_count": null,
   "metadata": {},
   "outputs": [],
   "source": [
    "import pandas as pd\n",
    "from keras.layers.core import Dense, Dropout\n",
    "from keras.layers.recurrent import GRU\n",
    "from keras.models import Sequential, load_model\n",
    "import matplotlib.pyplot as plt\n",
    "from sklearn.model_selection import train_test_split\n",
    "from sklearn.preprocessing import MinMaxScaler\n",
    "import copy\n"
   ]
  },
  {
   "cell_type": "code",
   "execution_count": null,
   "metadata": {},
   "outputs": [],
   "source": [
    "from keras.layers.recurrent import GRU\n",
    "from keras.models import Model\n",
    "from keras.layers import Input, Convolution2D, Flatten, Dense, Concatenate,Dropout\n",
    "import copy\n",
    "import numpy as np\n",
    "\n",
    "true_stand_data=np.load(r'.//data3//true_array.npy')\n",
    "false_stand_data=np.load(r'.//data3//false_array.npy')\n",
    "\n",
    "sample_num={'true_num':true_stand_data.shape[0],'false_num':false_stand_data.shape[0]}\n",
    "class_weight = {\n",
    "                0: (1 / sample_num['false_num'] * (sample_num['true_num'] + sample_num['false_num'])) / 2,\n",
    "                1: (1 / sample_num['true_num'] * (sample_num['true_num'] + sample_num['false_num'])) / 2\n",
    "                }\n",
    "\n",
    "\n",
    "true_sample = []\n",
    "false_sample = []\n",
    "for sample_number in range(true_stand_data.shape[0]):\n",
    "    true_sample.append(copy.deepcopy(np.concatenate((true_stand_data[sample_number,:,:,0], true_stand_data[sample_number,:,:,1],true_stand_data[sample_number,:,:,2]),axis=1)))\n",
    "    \n",
    "for sample_number in range(false_stand_data.shape[0]):\n",
    "    false_sample.append(copy.deepcopy(np.concatenate((false_stand_data[sample_number,:,:,0], false_stand_data[sample_number,:,:,1],false_stand_data[sample_number,:,:,2]),axis=1)))\n",
    "    \n",
    "combin_train_data = np.concatenate((true_sample,false_sample),axis=0)    \n",
    "combin_target_data= np.concatenate((np.ones((sample_num['true_num'],1)),np.zeros((sample_num['false_num'],1))),axis=0)\n",
    "from sklearn.preprocessing import OneHotEncoder\n",
    "ohe = OneHotEncoder()\n",
    "combin_target_data=ohe.fit_transform(combin_target_data).toarray()\n",
    "\n",
    "\n",
    "import tensorflow as tf\n",
    "dataset = tf.data.Dataset.from_tensor_slices((combin_train_data, combin_target_data))\n",
    "\n",
    "\n",
    "model = tf.keras.Sequential([\n",
    "    tf.keras.layers.GRU(units=7,return_sequences=True,input_shape=(110,21)),\n",
    "    tf.keras.layers.GRU(units=21,return_sequences=True),\n",
    "    tf.keras.layers.GRU(units=63,return_sequences=True),\n",
    "    tf.keras.layers.GRU(units=189,return_sequences=True),\n",
    "    tf.keras.layers.GRU(units=69),\n",
    "    tr.keras.layers.Dropout(0.2)\n",
    "    tf.keras.layers.Dense(12,input_shape=(69,),activation='relu'),\n",
    "    tf.keras.layers.Dense(2,,activation='softmax'),\n",
    "    ])\n",
    "\n",
    "print(model.summary())\n",
    "\n",
    "callbacks_list = [\n",
    "    \n",
    "    keras.callbacks.EarlyStopping(\n",
    "        monitor='accuracy', \n",
    "        patience=3 \n",
    "    ),\n",
    "    # 保存模型\n",
    "    keras.callbacks.ModelCheckpoint(\n",
    "    filepath = 'GRU_predict.h5', \n",
    "    monitor='loss', \n",
    "    save_best_only=True) \n",
    "]\n",
    "\n",
    "\n",
    "model.compile(optimizer=tf.keras.optimizers.Adam(learning_rate=0.001),\n",
    "#             loss='tf.keras.losses.BinaryCrossentropy(from_logits=True)',\n",
    "            loss='categorical_crossentropy',\n",
    "            metrics=['accuracy'])\n",
    "\n",
    "model.fit(train_dataset, epochs=15,class_weight=class_weight,callbacks=callbacks_list)\n"
   ]
  },
  {
   "cell_type": "code",
   "execution_count": null,
   "metadata": {},
   "outputs": [],
   "source": []
  },
  {
   "cell_type": "code",
   "execution_count": null,
   "metadata": {},
   "outputs": [],
   "source": []
  },
  {
   "cell_type": "code",
   "execution_count": null,
   "metadata": {},
   "outputs": [],
   "source": []
  },
  {
   "cell_type": "code",
   "execution_count": null,
   "metadata": {},
   "outputs": [],
   "source": []
  },
  {
   "cell_type": "code",
   "execution_count": null,
   "metadata": {},
   "outputs": [],
   "source": []
  },
  {
   "cell_type": "code",
   "execution_count": null,
   "metadata": {},
   "outputs": [],
   "source": []
  },
  {
   "cell_type": "code",
   "execution_count": null,
   "metadata": {},
   "outputs": [],
   "source": []
  },
  {
   "cell_type": "code",
   "execution_count": null,
   "metadata": {},
   "outputs": [],
   "source": []
  }
 ],
 "metadata": {
  "kernelspec": {
   "display_name": "Python 3",
   "language": "python",
   "name": "python3"
  },
  "language_info": {
   "codemirror_mode": {
    "name": "ipython",
    "version": 3
   },
   "file_extension": ".py",
   "mimetype": "text/x-python",
   "name": "python",
   "nbconvert_exporter": "python",
   "pygments_lexer": "ipython3",
   "version": "3.7.1"
  }
 },
 "nbformat": 4,
 "nbformat_minor": 4
}
