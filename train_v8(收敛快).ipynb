{
 "cells": [
  {
   "cell_type": "code",
   "execution_count": 66,
   "metadata": {},
   "outputs": [],
   "source": [
    "import keras\n",
    "import pandas as pd\n",
    "from keras.layers.core import Dense, Dropout\n",
    "from keras.layers.recurrent import GRU\n",
    "from keras.models import Sequential, load_model\n",
    "from sklearn.model_selection import train_test_split\n",
    "from sklearn.preprocessing import MinMaxScaler\n",
    "import copy\n",
    "\n",
    "from keras.layers.recurrent import GRU\n",
    "from keras.models import Model\n",
    "from keras.layers import Input, Convolution2D, Flatten, Dense, Concatenate,Dropout\n",
    "import copy\n",
    "import numpy as np\n",
    "import tensorflow as tf\n",
    "\n",
    "true_stand_data=np.load(r'F:\\\\深度学习模型项目\\\\神经网络GRU模型\\\\data3\\\\data3//true_array.npy')\n",
    "false_stand_data=np.load(r'F:\\\\深度学习模型项目\\\\神经网络GRU模型\\\\data3\\\\data3//false_array.npy')\n",
    "\n",
    "\n"
   ]
  },
  {
   "cell_type": "code",
   "execution_count": 67,
   "metadata": {},
   "outputs": [
    {
     "data": {
      "text/plain": [
       "(25230, 110, 7, 3)"
      ]
     },
     "execution_count": 67,
     "metadata": {},
     "output_type": "execute_result"
    }
   ],
   "source": [
    "true_stand_data.shape"
   ]
  },
  {
   "cell_type": "code",
   "execution_count": 88,
   "metadata": {},
   "outputs": [
    {
     "ename": "IndexError",
     "evalue": "too many indices for array",
     "output_type": "error",
     "traceback": [
      "\u001b[1;31m---------------------------------------------------------------------------\u001b[0m",
      "\u001b[1;31mIndexError\u001b[0m                                Traceback (most recent call last)",
      "\u001b[1;32m<ipython-input-88-ecf010cd12f1>\u001b[0m in \u001b[0;36m<module>\u001b[1;34m\u001b[0m\n\u001b[1;32m----> 1\u001b[1;33m \u001b[0mtrue_stand_data\u001b[0m\u001b[1;33m=\u001b[0m\u001b[0mtrue_stand_data\u001b[0m\u001b[1;33m[\u001b[0m\u001b[1;33m:\u001b[0m\u001b[1;33m,\u001b[0m\u001b[1;33m:\u001b[0m\u001b[1;33m,\u001b[0m\u001b[1;33m:\u001b[0m\u001b[1;33m,\u001b[0m\u001b[1;36m0\u001b[0m\u001b[1;33m]\u001b[0m\u001b[1;33m.\u001b[0m\u001b[0mswapaxes\u001b[0m\u001b[1;33m(\u001b[0m\u001b[1;36m1\u001b[0m\u001b[1;33m,\u001b[0m \u001b[1;36m2\u001b[0m\u001b[1;33m)\u001b[0m\u001b[1;33m\u001b[0m\u001b[1;33m\u001b[0m\u001b[0m\n\u001b[0m\u001b[0;32m      2\u001b[0m \u001b[0mfalse_stand_data\u001b[0m\u001b[1;33m=\u001b[0m\u001b[0mfalse_stand_data\u001b[0m\u001b[1;33m[\u001b[0m\u001b[1;33m:\u001b[0m\u001b[1;33m,\u001b[0m\u001b[1;33m:\u001b[0m\u001b[1;33m,\u001b[0m\u001b[1;33m:\u001b[0m\u001b[1;33m,\u001b[0m\u001b[1;36m0\u001b[0m\u001b[1;33m]\u001b[0m\u001b[1;33m.\u001b[0m\u001b[0mswapaxes\u001b[0m\u001b[1;33m(\u001b[0m\u001b[1;36m1\u001b[0m\u001b[1;33m,\u001b[0m \u001b[1;36m2\u001b[0m\u001b[1;33m)\u001b[0m\u001b[1;33m\u001b[0m\u001b[1;33m\u001b[0m\u001b[0m\n",
      "\u001b[1;31mIndexError\u001b[0m: too many indices for array"
     ]
    }
   ],
   "source": [
    "true_stand_data=true_stand_data[:,:,:,0]\n",
    "false_stand_data=false_stand_data[:,:,:,0]"
   ]
  },
  {
   "cell_type": "code",
   "execution_count": 92,
   "metadata": {},
   "outputs": [],
   "source": [
    "true_stand_data=true_stand_data.swapaxes(1, 2)\n",
    "false_stand_data=false_stand_data.swapaxes(1, 2)"
   ]
  },
  {
   "cell_type": "code",
   "execution_count": 94,
   "metadata": {},
   "outputs": [
    {
     "data": {
      "text/plain": [
       "(169426, 7, 110)"
      ]
     },
     "execution_count": 94,
     "metadata": {},
     "output_type": "execute_result"
    }
   ],
   "source": [
    "false_stand_data.shape"
   ]
  },
  {
   "cell_type": "code",
   "execution_count": 96,
   "metadata": {},
   "outputs": [],
   "source": [
    "sample_num={'true_num':true_stand_data.shape[0],'false_num':false_stand_data.shape[0]}\n",
    "class_weight = {\n",
    "                0: (1 / sample_num['false_num'] * (sample_num['true_num'] + sample_num['false_num'])) / 2,\n",
    "                1: (1 / sample_num['true_num'] * (sample_num['true_num'] + sample_num['false_num'])) / 2\n",
    "                }"
   ]
  },
  {
   "cell_type": "code",
   "execution_count": 105,
   "metadata": {},
   "outputs": [],
   "source": [
    "true_sample_channel_1 = []\n",
    "false_sample_channel_1 = []\n",
    "\n",
    "\n",
    "for sample_number in range(true_stand_data.shape[0]):\n",
    "    true_sample_channel_1.append(copy.deepcopy(true_stand_data[sample_number,:,:]))\n",
    "    \n",
    "    \n",
    "for sample_number in range(false_stand_data.shape[0]):\n",
    "    false_sample_channel_1.append(copy.deepcopy(false_stand_data[sample_number,:,:]))\n",
    "    \n",
    "    "
   ]
  },
  {
   "cell_type": "code",
   "execution_count": 106,
   "metadata": {},
   "outputs": [],
   "source": [
    "combin_train_data1 = np.concatenate((true_sample_channel_1,false_sample_channel_1),axis=0)\n",
    "\n",
    "\n",
    "combin_target_data= np.concatenate((np.ones((sample_num['true_num'],1)),np.zeros((sample_num['false_num'],1))),axis=0)\n",
    "from sklearn.preprocessing import OneHotEncoder\n",
    "ohe = OneHotEncoder()\n",
    "combin_target_data=ohe.fit_transform(combin_target_data).toarray()"
   ]
  },
  {
   "cell_type": "code",
   "execution_count": 109,
   "metadata": {},
   "outputs": [
    {
     "name": "stdout",
     "output_type": "stream",
     "text": [
      "Model: \"functional_9\"\n",
      "_________________________________________________________________\n",
      "Layer (type)                 Output Shape              Param #   \n",
      "=================================================================\n",
      "input_15 (InputLayer)        [(None, 7, 110)]          0         \n",
      "_________________________________________________________________\n",
      "gru_28 (GRU)                 (None, 7, 48)             23040     \n",
      "_________________________________________________________________\n",
      "gru_29 (GRU)                 (None, 20)                4200      \n",
      "_________________________________________________________________\n",
      "dense_18 (Dense)             (None, 10)                210       \n",
      "_________________________________________________________________\n",
      "dense_19 (Dense)             (None, 2)                 22        \n",
      "=================================================================\n",
      "Total params: 27,472\n",
      "Trainable params: 27,472\n",
      "Non-trainable params: 0\n",
      "_________________________________________________________________\n",
      "None\n"
     ]
    }
   ],
   "source": [
    "# Model 1\n",
    "in_1 = Input(shape=(7,110))\n",
    "x_480_1 = GRU(units=480,return_sequences=True,input_shape=(7,110))(in_1)\n",
    "x_100_1 = GRU(units=100)(x_480_1)\n",
    "x_10_1 =Dense(10, activation='tanh')(x_100_1)\n",
    "\n",
    "model_final_dense_out = Dense(2, activation='softmax')(x_10_1)\n",
    "\n",
    "model = Model(inputs=in_1, outputs=model_final_dense_out)\n",
    "print(model.summary())\n"
   ]
  },
  {
   "cell_type": "code",
   "execution_count": 110,
   "metadata": {},
   "outputs": [
    {
     "name": "stdout",
     "output_type": "stream",
     "text": [
      "Epoch 1/100\n",
      "5408/5408 [==============================] - 22s 4ms/step - loss: 0.6279 - accuracy: 0.6842\n",
      "Epoch 2/100\n",
      "5408/5408 [==============================] - 22s 4ms/step - loss: 0.5959 - accuracy: 0.7177\n",
      "Epoch 3/100\n",
      "5408/5408 [==============================] - 22s 4ms/step - loss: 0.5788 - accuracy: 0.7297\n",
      "Epoch 4/100\n",
      "5408/5408 [==============================] - 23s 4ms/step - loss: 0.5669 - accuracy: 0.7373\n",
      "Epoch 5/100\n",
      "5408/5408 [==============================] - 24s 4ms/step - loss: 0.5565 - accuracy: 0.7426\n",
      "Epoch 6/100\n",
      "5408/5408 [==============================] - 24s 4ms/step - loss: 0.5478 - accuracy: 0.7445\n",
      "Epoch 7/100\n",
      "5408/5408 [==============================] - 24s 4ms/step - loss: 0.5399 - accuracy: 0.7460\n",
      "Epoch 8/100\n",
      "5408/5408 [==============================] - 24s 4ms/step - loss: 0.5317 - accuracy: 0.7451\n",
      "Epoch 9/100\n",
      "5408/5408 [==============================] - 25s 5ms/step - loss: 0.5254 - accuracy: 0.7469\n",
      "Epoch 10/100\n",
      "5408/5408 [==============================] - 23s 4ms/step - loss: 0.5187 - accuracy: 0.7470\n",
      "Epoch 11/100\n",
      "5408/5408 [==============================] - 23s 4ms/step - loss: 0.5111 - accuracy: 0.7480\n",
      "Epoch 12/100\n",
      "5408/5408 [==============================] - 23s 4ms/step - loss: 0.5047 - accuracy: 0.7475\n",
      "Epoch 13/100\n",
      "5408/5408 [==============================] - 23s 4ms/step - loss: 0.4991 - accuracy: 0.7508\n",
      "Epoch 14/100\n",
      "5408/5408 [==============================] - 23s 4ms/step - loss: 0.4926 - accuracy: 0.7504\n",
      "Epoch 15/100\n",
      "5408/5408 [==============================] - 23s 4ms/step - loss: 0.4864 - accuracy: 0.7508\n",
      "Epoch 16/100\n",
      "5408/5408 [==============================] - 23s 4ms/step - loss: 0.4803 - accuracy: 0.7503\n",
      "Epoch 17/100\n",
      "5408/5408 [==============================] - 23s 4ms/step - loss: 0.4739 - accuracy: 0.7516\n",
      "Epoch 18/100\n",
      "5408/5408 [==============================] - 23s 4ms/step - loss: 0.4682 - accuracy: 0.7527\n",
      "Epoch 19/100\n",
      "5408/5408 [==============================] - 23s 4ms/step - loss: 0.4630 - accuracy: 0.7533\n",
      "Epoch 20/100\n",
      "5408/5408 [==============================] - 23s 4ms/step - loss: 0.4563 - accuracy: 0.7546\n",
      "Epoch 21/100\n",
      "5408/5408 [==============================] - 22s 4ms/step - loss: 0.4524 - accuracy: 0.7563\n",
      "Epoch 22/100\n",
      "5408/5408 [==============================] - 23s 4ms/step - loss: 0.4467 - accuracy: 0.7575\n",
      "Epoch 23/100\n",
      "5408/5408 [==============================] - 23s 4ms/step - loss: 0.4416 - accuracy: 0.7576\n",
      "Epoch 24/100\n",
      "5408/5408 [==============================] - 23s 4ms/step - loss: 0.4373 - accuracy: 0.7590\n",
      "Epoch 25/100\n",
      "5408/5408 [==============================] - 23s 4ms/step - loss: 0.4337 - accuracy: 0.7599\n",
      "Epoch 26/100\n",
      "5408/5408 [==============================] - 23s 4ms/step - loss: 0.4293 - accuracy: 0.7611\n",
      "Epoch 27/100\n",
      "5408/5408 [==============================] - 23s 4ms/step - loss: 0.4252 - accuracy: 0.7612\n",
      "Epoch 28/100\n",
      "5408/5408 [==============================] - 23s 4ms/step - loss: 0.4200 - accuracy: 0.7632\n",
      "Epoch 29/100\n",
      "5408/5408 [==============================] - 22s 4ms/step - loss: 0.4176 - accuracy: 0.7636\n",
      "Epoch 30/100\n",
      "5408/5408 [==============================] - 23s 4ms/step - loss: 0.4140 - accuracy: 0.7670\n",
      "Epoch 31/100\n",
      "5408/5408 [==============================] - 23s 4ms/step - loss: 0.4103 - accuracy: 0.7670\n",
      "Epoch 32/100\n",
      "5408/5408 [==============================] - 22s 4ms/step - loss: 0.4059 - accuracy: 0.7675\n",
      "Epoch 33/100\n",
      "5408/5408 [==============================] - 23s 4ms/step - loss: 0.4031 - accuracy: 0.7698\n",
      "Epoch 34/100\n",
      "5408/5408 [==============================] - 23s 4ms/step - loss: 0.4011 - accuracy: 0.7705\n",
      "Epoch 35/100\n",
      "5408/5408 [==============================] - 23s 4ms/step - loss: 0.3993 - accuracy: 0.7713\n",
      "Epoch 36/100\n",
      "5408/5408 [==============================] - 23s 4ms/step - loss: 0.3961 - accuracy: 0.7733\n",
      "Epoch 37/100\n",
      "5408/5408 [==============================] - 23s 4ms/step - loss: 0.3928 - accuracy: 0.7744\n",
      "Epoch 38/100\n",
      "5408/5408 [==============================] - 23s 4ms/step - loss: 0.3917 - accuracy: 0.7752\n",
      "Epoch 39/100\n",
      "5408/5408 [==============================] - 23s 4ms/step - loss: 0.3878 - accuracy: 0.7751\n",
      "Epoch 40/100\n",
      "5408/5408 [==============================] - 23s 4ms/step - loss: 0.3863 - accuracy: 0.7749\n",
      "Epoch 41/100\n",
      "5408/5408 [==============================] - 23s 4ms/step - loss: 0.3859 - accuracy: 0.7755\n",
      "Epoch 42/100\n",
      "5408/5408 [==============================] - 23s 4ms/step - loss: 0.3803 - accuracy: 0.7798\n",
      "Epoch 43/100\n",
      "5408/5408 [==============================] - 23s 4ms/step - loss: 0.3776 - accuracy: 0.7799\n",
      "Epoch 44/100\n",
      "5408/5408 [==============================] - 23s 4ms/step - loss: 0.3762 - accuracy: 0.7805\n",
      "Epoch 45/100\n",
      "5408/5408 [==============================] - 23s 4ms/step - loss: 0.3759 - accuracy: 0.7804\n",
      "Epoch 46/100\n",
      "5408/5408 [==============================] - 23s 4ms/step - loss: 0.3750 - accuracy: 0.7820\n",
      "Epoch 47/100\n",
      "5408/5408 [==============================] - 24s 4ms/step - loss: 0.3727 - accuracy: 0.7834\n",
      "Epoch 48/100\n",
      "5408/5408 [==============================] - 24s 4ms/step - loss: 0.3675 - accuracy: 0.7852\n",
      "Epoch 49/100\n",
      "5408/5408 [==============================] - 23s 4ms/step - loss: 0.3687 - accuracy: 0.7844\n",
      "Epoch 50/100\n",
      "5408/5408 [==============================] - 23s 4ms/step - loss: 0.3665 - accuracy: 0.7851\n",
      "Epoch 51/100\n",
      "5408/5408 [==============================] - 23s 4ms/step - loss: 0.3659 - accuracy: 0.7851\n",
      "Epoch 52/100\n",
      "5408/5408 [==============================] - 23s 4ms/step - loss: 0.3640 - accuracy: 0.7893\n",
      "Epoch 53/100\n",
      "5408/5408 [==============================] - 23s 4ms/step - loss: 0.3625 - accuracy: 0.7895\n",
      "Epoch 54/100\n",
      "5408/5408 [==============================] - 23s 4ms/step - loss: 0.3607 - accuracy: 0.7888\n",
      "Epoch 55/100\n",
      "5408/5408 [==============================] - 23s 4ms/step - loss: 0.3596 - accuracy: 0.7899\n",
      "Epoch 56/100\n",
      "5408/5408 [==============================] - 23s 4ms/step - loss: 0.3576 - accuracy: 0.7915\n",
      "Epoch 57/100\n",
      "5408/5408 [==============================] - 23s 4ms/step - loss: 0.3564 - accuracy: 0.7935\n",
      "Epoch 58/100\n",
      "5408/5408 [==============================] - 22s 4ms/step - loss: 0.3568 - accuracy: 0.7913\n",
      "Epoch 59/100\n",
      "1362/5408 [======>.......................] - ETA: 17s - loss: 0.3436 - accuracy: 0.8003"
     ]
    },
    {
     "ename": "KeyboardInterrupt",
     "evalue": "",
     "output_type": "error",
     "traceback": [
      "\u001b[1;31m---------------------------------------------------------------------------\u001b[0m",
      "\u001b[1;31mKeyboardInterrupt\u001b[0m                         Traceback (most recent call last)",
      "\u001b[1;32m<ipython-input-110-9c4c1bfa070c>\u001b[0m in \u001b[0;36m<module>\u001b[1;34m\u001b[0m\n\u001b[0;32m     36\u001b[0m           \u001b[0mverbose\u001b[0m\u001b[1;33m=\u001b[0m\u001b[1;36m1\u001b[0m\u001b[1;33m,\u001b[0m\u001b[1;33m\u001b[0m\u001b[1;33m\u001b[0m\u001b[0m\n\u001b[0;32m     37\u001b[0m           \u001b[0mclass_weight\u001b[0m\u001b[1;33m=\u001b[0m\u001b[0mclass_weight\u001b[0m\u001b[1;33m,\u001b[0m\u001b[1;33m\u001b[0m\u001b[1;33m\u001b[0m\u001b[0m\n\u001b[1;32m---> 38\u001b[1;33m           \u001b[0mcallbacks\u001b[0m\u001b[1;33m=\u001b[0m\u001b[0mcallbacks_list\u001b[0m\u001b[1;33m\u001b[0m\u001b[1;33m\u001b[0m\u001b[0m\n\u001b[0m\u001b[0;32m     39\u001b[0m          )\n",
      "\u001b[1;32mD:\\anaconda3\\lib\\site-packages\\tensorflow\\python\\keras\\engine\\training.py\u001b[0m in \u001b[0;36m_method_wrapper\u001b[1;34m(self, *args, **kwargs)\u001b[0m\n\u001b[0;32m    106\u001b[0m   \u001b[1;32mdef\u001b[0m \u001b[0m_method_wrapper\u001b[0m\u001b[1;33m(\u001b[0m\u001b[0mself\u001b[0m\u001b[1;33m,\u001b[0m \u001b[1;33m*\u001b[0m\u001b[0margs\u001b[0m\u001b[1;33m,\u001b[0m \u001b[1;33m**\u001b[0m\u001b[0mkwargs\u001b[0m\u001b[1;33m)\u001b[0m\u001b[1;33m:\u001b[0m\u001b[1;33m\u001b[0m\u001b[1;33m\u001b[0m\u001b[0m\n\u001b[0;32m    107\u001b[0m     \u001b[1;32mif\u001b[0m \u001b[1;32mnot\u001b[0m \u001b[0mself\u001b[0m\u001b[1;33m.\u001b[0m\u001b[0m_in_multi_worker_mode\u001b[0m\u001b[1;33m(\u001b[0m\u001b[1;33m)\u001b[0m\u001b[1;33m:\u001b[0m  \u001b[1;31m# pylint: disable=protected-access\u001b[0m\u001b[1;33m\u001b[0m\u001b[1;33m\u001b[0m\u001b[0m\n\u001b[1;32m--> 108\u001b[1;33m       \u001b[1;32mreturn\u001b[0m \u001b[0mmethod\u001b[0m\u001b[1;33m(\u001b[0m\u001b[0mself\u001b[0m\u001b[1;33m,\u001b[0m \u001b[1;33m*\u001b[0m\u001b[0margs\u001b[0m\u001b[1;33m,\u001b[0m \u001b[1;33m**\u001b[0m\u001b[0mkwargs\u001b[0m\u001b[1;33m)\u001b[0m\u001b[1;33m\u001b[0m\u001b[1;33m\u001b[0m\u001b[0m\n\u001b[0m\u001b[0;32m    109\u001b[0m \u001b[1;33m\u001b[0m\u001b[0m\n\u001b[0;32m    110\u001b[0m     \u001b[1;31m# Running inside `run_distribute_coordinator` already.\u001b[0m\u001b[1;33m\u001b[0m\u001b[1;33m\u001b[0m\u001b[1;33m\u001b[0m\u001b[0m\n",
      "\u001b[1;32mD:\\anaconda3\\lib\\site-packages\\tensorflow\\python\\keras\\engine\\training.py\u001b[0m in \u001b[0;36mfit\u001b[1;34m(self, x, y, batch_size, epochs, verbose, callbacks, validation_split, validation_data, shuffle, class_weight, sample_weight, initial_epoch, steps_per_epoch, validation_steps, validation_batch_size, validation_freq, max_queue_size, workers, use_multiprocessing)\u001b[0m\n\u001b[0;32m   1096\u001b[0m                 batch_size=batch_size):\n\u001b[0;32m   1097\u001b[0m               \u001b[0mcallbacks\u001b[0m\u001b[1;33m.\u001b[0m\u001b[0mon_train_batch_begin\u001b[0m\u001b[1;33m(\u001b[0m\u001b[0mstep\u001b[0m\u001b[1;33m)\u001b[0m\u001b[1;33m\u001b[0m\u001b[1;33m\u001b[0m\u001b[0m\n\u001b[1;32m-> 1098\u001b[1;33m               \u001b[0mtmp_logs\u001b[0m \u001b[1;33m=\u001b[0m \u001b[0mtrain_function\u001b[0m\u001b[1;33m(\u001b[0m\u001b[0miterator\u001b[0m\u001b[1;33m)\u001b[0m\u001b[1;33m\u001b[0m\u001b[1;33m\u001b[0m\u001b[0m\n\u001b[0m\u001b[0;32m   1099\u001b[0m               \u001b[1;32mif\u001b[0m \u001b[0mdata_handler\u001b[0m\u001b[1;33m.\u001b[0m\u001b[0mshould_sync\u001b[0m\u001b[1;33m:\u001b[0m\u001b[1;33m\u001b[0m\u001b[1;33m\u001b[0m\u001b[0m\n\u001b[0;32m   1100\u001b[0m                 \u001b[0mcontext\u001b[0m\u001b[1;33m.\u001b[0m\u001b[0masync_wait\u001b[0m\u001b[1;33m(\u001b[0m\u001b[1;33m)\u001b[0m\u001b[1;33m\u001b[0m\u001b[1;33m\u001b[0m\u001b[0m\n",
      "\u001b[1;32mD:\\anaconda3\\lib\\site-packages\\tensorflow\\python\\eager\\def_function.py\u001b[0m in \u001b[0;36m__call__\u001b[1;34m(self, *args, **kwds)\u001b[0m\n\u001b[0;32m    778\u001b[0m       \u001b[1;32melse\u001b[0m\u001b[1;33m:\u001b[0m\u001b[1;33m\u001b[0m\u001b[1;33m\u001b[0m\u001b[0m\n\u001b[0;32m    779\u001b[0m         \u001b[0mcompiler\u001b[0m \u001b[1;33m=\u001b[0m \u001b[1;34m\"nonXla\"\u001b[0m\u001b[1;33m\u001b[0m\u001b[1;33m\u001b[0m\u001b[0m\n\u001b[1;32m--> 780\u001b[1;33m         \u001b[0mresult\u001b[0m \u001b[1;33m=\u001b[0m \u001b[0mself\u001b[0m\u001b[1;33m.\u001b[0m\u001b[0m_call\u001b[0m\u001b[1;33m(\u001b[0m\u001b[1;33m*\u001b[0m\u001b[0margs\u001b[0m\u001b[1;33m,\u001b[0m \u001b[1;33m**\u001b[0m\u001b[0mkwds\u001b[0m\u001b[1;33m)\u001b[0m\u001b[1;33m\u001b[0m\u001b[1;33m\u001b[0m\u001b[0m\n\u001b[0m\u001b[0;32m    781\u001b[0m \u001b[1;33m\u001b[0m\u001b[0m\n\u001b[0;32m    782\u001b[0m       \u001b[0mnew_tracing_count\u001b[0m \u001b[1;33m=\u001b[0m \u001b[0mself\u001b[0m\u001b[1;33m.\u001b[0m\u001b[0m_get_tracing_count\u001b[0m\u001b[1;33m(\u001b[0m\u001b[1;33m)\u001b[0m\u001b[1;33m\u001b[0m\u001b[1;33m\u001b[0m\u001b[0m\n",
      "\u001b[1;32mD:\\anaconda3\\lib\\site-packages\\tensorflow\\python\\eager\\def_function.py\u001b[0m in \u001b[0;36m_call\u001b[1;34m(self, *args, **kwds)\u001b[0m\n\u001b[0;32m    805\u001b[0m       \u001b[1;31m# In this case we have created variables on the first call, so we run the\u001b[0m\u001b[1;33m\u001b[0m\u001b[1;33m\u001b[0m\u001b[1;33m\u001b[0m\u001b[0m\n\u001b[0;32m    806\u001b[0m       \u001b[1;31m# defunned version which is guaranteed to never create variables.\u001b[0m\u001b[1;33m\u001b[0m\u001b[1;33m\u001b[0m\u001b[1;33m\u001b[0m\u001b[0m\n\u001b[1;32m--> 807\u001b[1;33m       \u001b[1;32mreturn\u001b[0m \u001b[0mself\u001b[0m\u001b[1;33m.\u001b[0m\u001b[0m_stateless_fn\u001b[0m\u001b[1;33m(\u001b[0m\u001b[1;33m*\u001b[0m\u001b[0margs\u001b[0m\u001b[1;33m,\u001b[0m \u001b[1;33m**\u001b[0m\u001b[0mkwds\u001b[0m\u001b[1;33m)\u001b[0m  \u001b[1;31m# pylint: disable=not-callable\u001b[0m\u001b[1;33m\u001b[0m\u001b[1;33m\u001b[0m\u001b[0m\n\u001b[0m\u001b[0;32m    808\u001b[0m     \u001b[1;32melif\u001b[0m \u001b[0mself\u001b[0m\u001b[1;33m.\u001b[0m\u001b[0m_stateful_fn\u001b[0m \u001b[1;32mis\u001b[0m \u001b[1;32mnot\u001b[0m \u001b[1;32mNone\u001b[0m\u001b[1;33m:\u001b[0m\u001b[1;33m\u001b[0m\u001b[1;33m\u001b[0m\u001b[0m\n\u001b[0;32m    809\u001b[0m       \u001b[1;31m# Release the lock early so that multiple threads can perform the call\u001b[0m\u001b[1;33m\u001b[0m\u001b[1;33m\u001b[0m\u001b[1;33m\u001b[0m\u001b[0m\n",
      "\u001b[1;32mD:\\anaconda3\\lib\\site-packages\\tensorflow\\python\\eager\\function.py\u001b[0m in \u001b[0;36m__call__\u001b[1;34m(self, *args, **kwargs)\u001b[0m\n\u001b[0;32m   2827\u001b[0m     \u001b[1;32mwith\u001b[0m \u001b[0mself\u001b[0m\u001b[1;33m.\u001b[0m\u001b[0m_lock\u001b[0m\u001b[1;33m:\u001b[0m\u001b[1;33m\u001b[0m\u001b[1;33m\u001b[0m\u001b[0m\n\u001b[0;32m   2828\u001b[0m       \u001b[0mgraph_function\u001b[0m\u001b[1;33m,\u001b[0m \u001b[0margs\u001b[0m\u001b[1;33m,\u001b[0m \u001b[0mkwargs\u001b[0m \u001b[1;33m=\u001b[0m \u001b[0mself\u001b[0m\u001b[1;33m.\u001b[0m\u001b[0m_maybe_define_function\u001b[0m\u001b[1;33m(\u001b[0m\u001b[0margs\u001b[0m\u001b[1;33m,\u001b[0m \u001b[0mkwargs\u001b[0m\u001b[1;33m)\u001b[0m\u001b[1;33m\u001b[0m\u001b[1;33m\u001b[0m\u001b[0m\n\u001b[1;32m-> 2829\u001b[1;33m     \u001b[1;32mreturn\u001b[0m \u001b[0mgraph_function\u001b[0m\u001b[1;33m.\u001b[0m\u001b[0m_filtered_call\u001b[0m\u001b[1;33m(\u001b[0m\u001b[0margs\u001b[0m\u001b[1;33m,\u001b[0m \u001b[0mkwargs\u001b[0m\u001b[1;33m)\u001b[0m  \u001b[1;31m# pylint: disable=protected-access\u001b[0m\u001b[1;33m\u001b[0m\u001b[1;33m\u001b[0m\u001b[0m\n\u001b[0m\u001b[0;32m   2830\u001b[0m \u001b[1;33m\u001b[0m\u001b[0m\n\u001b[0;32m   2831\u001b[0m   \u001b[1;33m@\u001b[0m\u001b[0mproperty\u001b[0m\u001b[1;33m\u001b[0m\u001b[1;33m\u001b[0m\u001b[0m\n",
      "\u001b[1;32mD:\\anaconda3\\lib\\site-packages\\tensorflow\\python\\eager\\function.py\u001b[0m in \u001b[0;36m_filtered_call\u001b[1;34m(self, args, kwargs, cancellation_manager)\u001b[0m\n\u001b[0;32m   1846\u001b[0m                            resource_variable_ops.BaseResourceVariable))],\n\u001b[0;32m   1847\u001b[0m         \u001b[0mcaptured_inputs\u001b[0m\u001b[1;33m=\u001b[0m\u001b[0mself\u001b[0m\u001b[1;33m.\u001b[0m\u001b[0mcaptured_inputs\u001b[0m\u001b[1;33m,\u001b[0m\u001b[1;33m\u001b[0m\u001b[1;33m\u001b[0m\u001b[0m\n\u001b[1;32m-> 1848\u001b[1;33m         cancellation_manager=cancellation_manager)\n\u001b[0m\u001b[0;32m   1849\u001b[0m \u001b[1;33m\u001b[0m\u001b[0m\n\u001b[0;32m   1850\u001b[0m   \u001b[1;32mdef\u001b[0m \u001b[0m_call_flat\u001b[0m\u001b[1;33m(\u001b[0m\u001b[0mself\u001b[0m\u001b[1;33m,\u001b[0m \u001b[0margs\u001b[0m\u001b[1;33m,\u001b[0m \u001b[0mcaptured_inputs\u001b[0m\u001b[1;33m,\u001b[0m \u001b[0mcancellation_manager\u001b[0m\u001b[1;33m=\u001b[0m\u001b[1;32mNone\u001b[0m\u001b[1;33m)\u001b[0m\u001b[1;33m:\u001b[0m\u001b[1;33m\u001b[0m\u001b[1;33m\u001b[0m\u001b[0m\n",
      "\u001b[1;32mD:\\anaconda3\\lib\\site-packages\\tensorflow\\python\\eager\\function.py\u001b[0m in \u001b[0;36m_call_flat\u001b[1;34m(self, args, captured_inputs, cancellation_manager)\u001b[0m\n\u001b[0;32m   1922\u001b[0m       \u001b[1;31m# No tape is watching; skip to running the function.\u001b[0m\u001b[1;33m\u001b[0m\u001b[1;33m\u001b[0m\u001b[1;33m\u001b[0m\u001b[0m\n\u001b[0;32m   1923\u001b[0m       return self._build_call_outputs(self._inference_function.call(\n\u001b[1;32m-> 1924\u001b[1;33m           ctx, args, cancellation_manager=cancellation_manager))\n\u001b[0m\u001b[0;32m   1925\u001b[0m     forward_backward = self._select_forward_and_backward_functions(\n\u001b[0;32m   1926\u001b[0m         \u001b[0margs\u001b[0m\u001b[1;33m,\u001b[0m\u001b[1;33m\u001b[0m\u001b[1;33m\u001b[0m\u001b[0m\n",
      "\u001b[1;32mD:\\anaconda3\\lib\\site-packages\\tensorflow\\python\\eager\\function.py\u001b[0m in \u001b[0;36mcall\u001b[1;34m(self, ctx, args, cancellation_manager)\u001b[0m\n\u001b[0;32m    548\u001b[0m               \u001b[0minputs\u001b[0m\u001b[1;33m=\u001b[0m\u001b[0margs\u001b[0m\u001b[1;33m,\u001b[0m\u001b[1;33m\u001b[0m\u001b[1;33m\u001b[0m\u001b[0m\n\u001b[0;32m    549\u001b[0m               \u001b[0mattrs\u001b[0m\u001b[1;33m=\u001b[0m\u001b[0mattrs\u001b[0m\u001b[1;33m,\u001b[0m\u001b[1;33m\u001b[0m\u001b[1;33m\u001b[0m\u001b[0m\n\u001b[1;32m--> 550\u001b[1;33m               ctx=ctx)\n\u001b[0m\u001b[0;32m    551\u001b[0m         \u001b[1;32melse\u001b[0m\u001b[1;33m:\u001b[0m\u001b[1;33m\u001b[0m\u001b[1;33m\u001b[0m\u001b[0m\n\u001b[0;32m    552\u001b[0m           outputs = execute.execute_with_cancellation(\n",
      "\u001b[1;32mD:\\anaconda3\\lib\\site-packages\\tensorflow\\python\\eager\\execute.py\u001b[0m in \u001b[0;36mquick_execute\u001b[1;34m(op_name, num_outputs, inputs, attrs, ctx, name)\u001b[0m\n\u001b[0;32m     58\u001b[0m     \u001b[0mctx\u001b[0m\u001b[1;33m.\u001b[0m\u001b[0mensure_initialized\u001b[0m\u001b[1;33m(\u001b[0m\u001b[1;33m)\u001b[0m\u001b[1;33m\u001b[0m\u001b[1;33m\u001b[0m\u001b[0m\n\u001b[0;32m     59\u001b[0m     tensors = pywrap_tfe.TFE_Py_Execute(ctx._handle, device_name, op_name,\n\u001b[1;32m---> 60\u001b[1;33m                                         inputs, attrs, num_outputs)\n\u001b[0m\u001b[0;32m     61\u001b[0m   \u001b[1;32mexcept\u001b[0m \u001b[0mcore\u001b[0m\u001b[1;33m.\u001b[0m\u001b[0m_NotOkStatusException\u001b[0m \u001b[1;32mas\u001b[0m \u001b[0me\u001b[0m\u001b[1;33m:\u001b[0m\u001b[1;33m\u001b[0m\u001b[1;33m\u001b[0m\u001b[0m\n\u001b[0;32m     62\u001b[0m     \u001b[1;32mif\u001b[0m \u001b[0mname\u001b[0m \u001b[1;32mis\u001b[0m \u001b[1;32mnot\u001b[0m \u001b[1;32mNone\u001b[0m\u001b[1;33m:\u001b[0m\u001b[1;33m\u001b[0m\u001b[1;33m\u001b[0m\u001b[0m\n",
      "\u001b[1;31mKeyboardInterrupt\u001b[0m: "
     ]
    }
   ],
   "source": [
    "import os\n",
    "if 'GRU_predict_v8.h5' in os.listdir('./'):\n",
    "    model = load_model(\"./GRU_predict_v8.h5\")\n",
    "\n",
    "callbacks_list = [    \n",
    "    keras.callbacks.EarlyStopping(\n",
    "        monitor='accuracy', \n",
    "        patience=30\n",
    "    ),\n",
    "    # 保存模型\n",
    "    keras.callbacks.ModelCheckpoint(\n",
    "    filepath = 'GRU_predict_v8.h5', \n",
    "    monitor='loss', \n",
    "    save_best_only=True),\n",
    "    \n",
    "    keras.callbacks.ReduceLROnPlateau(\n",
    "        monitor='loss', \n",
    "        factor=0.8,\n",
    "        patience=5, \n",
    "        mode='auto',\n",
    "        min_lr=0.00003)\n",
    "]\n",
    "\n",
    "\n",
    "model.compile(loss='categorical_crossentropy', #continu together\n",
    "              optimizer=tf.keras.optimizers.Adam(learning_rate=0.001),\n",
    "              metrics=['accuracy']\n",
    "             \n",
    "             )\n",
    "\n",
    "model.fit(x=[combin_train_data1,combin_train_data2,combin_train_data3],\n",
    "          y=combin_target_data,\n",
    "          batch_size=36,\n",
    "          epochs=100,\n",
    "          shuffle=True,\n",
    "          verbose=1,\n",
    "          class_weight=class_weight,\n",
    "          callbacks=callbacks_list      \n",
    "         )\n"
   ]
  },
  {
   "cell_type": "code",
   "execution_count": null,
   "metadata": {},
   "outputs": [],
   "source": []
  },
  {
   "cell_type": "code",
   "execution_count": null,
   "metadata": {},
   "outputs": [],
   "source": []
  },
  {
   "cell_type": "code",
   "execution_count": null,
   "metadata": {},
   "outputs": [],
   "source": []
  },
  {
   "cell_type": "code",
   "execution_count": null,
   "metadata": {},
   "outputs": [],
   "source": []
  },
  {
   "cell_type": "code",
   "execution_count": null,
   "metadata": {},
   "outputs": [],
   "source": []
  },
  {
   "cell_type": "code",
   "execution_count": 12,
   "metadata": {},
   "outputs": [],
   "source": [
    "b=true_stand_data[0].reshape(-1,1,11)"
   ]
  },
  {
   "cell_type": "code",
   "execution_count": 13,
   "metadata": {},
   "outputs": [
    {
     "data": {
      "text/plain": [
       "(110, 1, 11)"
      ]
     },
     "execution_count": 13,
     "metadata": {},
     "output_type": "execute_result"
    }
   ],
   "source": [
    "b.shape"
   ]
  },
  {
   "cell_type": "code",
   "execution_count": 6,
   "metadata": {},
   "outputs": [
    {
     "data": {
      "text/plain": [
       "array([[0., 1.],\n",
       "       [0., 1.],\n",
       "       [0., 1.],\n",
       "       ...,\n",
       "       [1., 0.],\n",
       "       [1., 0.],\n",
       "       [1., 0.]])"
      ]
     },
     "execution_count": 6,
     "metadata": {},
     "output_type": "execute_result"
    }
   ],
   "source": [
    "# Model 1\n",
    "in_1 = Input(shape=(110,1))\n",
    "x_480_1 = GRU(units=480,return_sequences=True,input_shape=(110,1))(in_1)\n",
    "x_100_1 = GRU(units=100)(x_480_1)\n",
    "x_10_1 =Dense(10, activation='tanh')(x_100_1)"
   ]
  },
  {
   "cell_type": "code",
   "execution_count": null,
   "metadata": {},
   "outputs": [],
   "source": [
    "import keras\n",
    "import pandas as pd\n",
    "from keras.layers.core import Dense, Dropout\n",
    "from keras.layers.recurrent import GRU\n",
    "from keras.models import Sequential, load_model\n",
    "from sklearn.model_selection import train_test_split\n",
    "from sklearn.preprocessing import MinMaxScaler\n",
    "import copy\n",
    "\n",
    "from keras.layers.recurrent import GRU\n",
    "from keras.models import Model\n",
    "from keras.layers import Input, Convolution2D, Flatten, Dense, Concatenate,Dropout\n",
    "import copy\n",
    "import numpy as np\n",
    "import tensorflow as tf\n",
    "\n",
    "true_stand_data=np.load(r'.//data3//true_array.npy')\n",
    "false_stand_data=np.load(r'.//data3//false_array.npy')\n",
    "\n",
    "true_stand_data=true_stand_data[:-100,:,:,:]\n",
    "false_stand_data=false_stand_data[:-100,:,:,:]\n",
    "\n",
    "\n",
    "true_stand_data=true_stand_data[:,:,:,0]\n",
    "false_stand_data=false_stand_data[:,:,:,0]\n",
    "\n",
    "true_stand_data=true_stand_data.swapaxes(1, 2)\n",
    "false_stand_data=false_stand_data.swapaxes(1, 2)\n",
    "\n",
    "sample_num={'true_num':true_stand_data.shape[0],'false_num':false_stand_data.shape[0]}\n",
    "class_weight = {\n",
    "                0: (1 / sample_num['false_num'] * (sample_num['true_num'] + sample_num['false_num'])) / 2,\n",
    "                1: (1 / sample_num['true_num'] * (sample_num['true_num'] + sample_num['false_num'])) / 2\n",
    "                }\n",
    "\n",
    "true_sample_channel_1 = []\n",
    "false_sample_channel_1 = []\n",
    "\n",
    "\n",
    "for sample_number in range(true_stand_data.shape[0]):\n",
    "    true_sample_channel_1.append(copy.deepcopy(true_stand_data[sample_number,:,:]))\n",
    "    \n",
    "    \n",
    "for sample_number in range(false_stand_data.shape[0]):\n",
    "    false_sample_channel_1.append(copy.deepcopy(false_stand_data[sample_number,:,:]))\n",
    "    \n",
    "\n",
    "combin_train_data1 = np.concatenate((true_sample_channel_1,false_sample_channel_1),axis=0)\n",
    "\n",
    "combin_target_data= np.concatenate((np.ones((sample_num['true_num'],1)),np.zeros((sample_num['false_num'],1))),axis=0)\n",
    "from sklearn.preprocessing import OneHotEncoder\n",
    "ohe = OneHotEncoder()\n",
    "combin_target_data=ohe.fit_transform(combin_target_data).toarray()\n",
    "\n",
    "# Model 1\n",
    "in_1 = Input(shape=(7,110))\n",
    "x_480_1 = GRU(units=480,return_sequences=True,input_shape=(7,110))(in_1)\n",
    "x_480_1 = Dropout(0.2)(x_480_1)\n",
    "x_100_1 = GRU(units=100)(x_480_1)\n",
    "x_100_1 = Dropout(0.2)(x_100_1)\n",
    "x_10_1 =Dense(10, activation='tanh')(x_100_1)\n",
    "\n",
    "model_final_dense_out = Dense(2, activation='softmax')(x_10_1)\n",
    "\n",
    "model = Model(inputs=in_1, outputs=model_final_dense_out)\n",
    "print(model.summary())\n",
    "\n",
    "\n",
    "import os\n",
    "if 'GRU_predict_v8.h5' in os.listdir('./'):\n",
    "    model = load_model(\"./GRU_predict_v8.h5\")\n",
    "\n",
    "callbacks_list = [    \n",
    "    keras.callbacks.EarlyStopping(\n",
    "        monitor='accuracy', \n",
    "        patience=20\n",
    "    ),\n",
    "    # 保存模型\n",
    "    keras.callbacks.ModelCheckpoint(\n",
    "    filepath = 'GRU_predict_v8.h5', \n",
    "    monitor='loss', \n",
    "    save_best_only=True),\n",
    "    \n",
    "    keras.callbacks.ReduceLROnPlateau(\n",
    "        monitor='loss', \n",
    "        factor=0.9,\n",
    "        patience=10, \n",
    "        mode='auto',\n",
    "        min_lr=0.00003)\n",
    "]\n",
    "\n",
    "\n",
    "model.compile(loss='categorical_crossentropy', #continu together\n",
    "              optimizer=tf.keras.optimizers.Adam(learning_rate=0.001),\n",
    "              metrics=['accuracy']\n",
    "             \n",
    "             )\n",
    "\n",
    "model.fit(x=combin_train_data1,\n",
    "          y=combin_target_data,\n",
    "          batch_size=360,\n",
    "          epochs=300,\n",
    "          shuffle=True,\n",
    "          verbose=1,\n",
    "          class_weight=class_weight,\n",
    "          callbacks=callbacks_list,\n",
    "          validation_split=0.2\n",
    "         )\n",
    "\n",
    "\n",
    "\n",
    "\n"
   ]
  },
  {
   "cell_type": "code",
   "execution_count": null,
   "metadata": {},
   "outputs": [],
   "source": []
  }
 ],
 "metadata": {
  "kernelspec": {
   "display_name": "Python 3",
   "language": "python",
   "name": "python3"
  },
  "language_info": {
   "codemirror_mode": {
    "name": "ipython",
    "version": 3
   },
   "file_extension": ".py",
   "mimetype": "text/x-python",
   "name": "python",
   "nbconvert_exporter": "python",
   "pygments_lexer": "ipython3",
   "version": "3.7.1"
  }
 },
 "nbformat": 4,
 "nbformat_minor": 4
}
