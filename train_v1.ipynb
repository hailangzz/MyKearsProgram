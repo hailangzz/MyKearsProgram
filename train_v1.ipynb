{
 "cells": [
  {
   "cell_type": "code",
   "execution_count": null,
   "metadata": {},
   "outputs": [],
   "source": [
    "import numpy as np\n",
    "\n",
    "true_stand_data=np.load('./true_array.npy')\n",
    "false_stand_data=np.load('./false_array.npy')\n",
    "\n",
    "sample_num={'true_num':true_stand_data.shape[0],'false_num':false_stand_data.shape[0]}\n",
    "# 构造训练数据：\n",
    "combin_train_data = np.concatenate((true_stand_data,false_stand_data),axis=0)\n",
    "combin_target_data= np.concatenate((np.ones((sample_num['true_num'],1)),np.zeros((sample_num['false_num'],1))),axis=0)\n",
    "\n",
    "print(combin_train_data.shape,combin_target_data.shape)\n",
    "\n",
    "\n",
    "\n",
    "import tensorflow as tf\n",
    "\n",
    "# 构建dataset，其实是把pandas数据转换成numpy数组进行转换的\n",
    "dataset = tf.data.Dataset.from_tensor_slices((combin_train_data, combin_target_data))\n",
    "class_weight = {\n",
    "    0: (1 / sample_num['false_num'] * (sample_num['true_num'] + sample_num['false_num'])) / 2,\n",
    "    1: (1 / sample_num['true_num'] * (sample_num['true_num'] + sample_num['false_num'])) / 2\n",
    "}\n",
    "\n",
    "# for features, label in dataset.take(1):\n",
    "#     print('Features: {}, Label: {}'.format(features, label))\n",
    "\n",
    "# Shuffle and batch the dataset.\n",
    "print(dataset.output_shapes)\n",
    "train_dataset = dataset.shuffle(combin_train_data.shape[0]).batch(1)\n",
    "\n",
    "\n",
    "model = tf.keras.Sequential([\n",
    "    tf.keras.layers.GRU(units=48,\n",
    "          return_sequences=True,\n",
    "          input_shape=(51, 7)),\n",
    "    tf.keras.layers.Dropout(0.2),\n",
    "    tf.keras.layers.GRU(units=24),\n",
    "    tf.keras.layers.Dropout(0.2),\n",
    "    tf.keras.layers.Dense(1,input_shape=(24,), activation='sigmoid')\n",
    "])\n",
    "print(model.summary())\n",
    "\n",
    "model.compile(optimizer='adam',\n",
    "#             loss='tf.keras.losses.BinaryCrossentropy(from_logits=True)',\n",
    "            loss='binary_crossentropy',\n",
    "            metrics=['accuracy'])\n",
    "\n",
    "model.fit(train_dataset, epochs=15,class_weight=class_weight)\n",
    "model.save('GRU_predict.h5')\n",
    "\n",
    "\n",
    "\n",
    "\n",
    "\n",
    "\n"
   ]
  },
  {
   "cell_type": "code",
   "execution_count": null,
   "metadata": {},
   "outputs": [],
   "source": []
  },
  {
   "cell_type": "code",
   "execution_count": null,
   "metadata": {},
   "outputs": [],
   "source": []
  },
  {
   "cell_type": "code",
   "execution_count": null,
   "metadata": {},
   "outputs": [],
   "source": []
  },
  {
   "cell_type": "code",
   "execution_count": null,
   "metadata": {},
   "outputs": [],
   "source": []
  },
  {
   "cell_type": "code",
   "execution_count": null,
   "metadata": {},
   "outputs": [],
   "source": []
  }
 ],
 "metadata": {
  "kernelspec": {
   "display_name": "Python 3",
   "language": "python",
   "name": "python3"
  },
  "language_info": {
   "codemirror_mode": {
    "name": "ipython",
    "version": 3
   },
   "file_extension": ".py",
   "mimetype": "text/x-python",
   "name": "python",
   "nbconvert_exporter": "python",
   "pygments_lexer": "ipython3",
   "version": "3.7.1"
  }
 },
 "nbformat": 4,
 "nbformat_minor": 4
}
